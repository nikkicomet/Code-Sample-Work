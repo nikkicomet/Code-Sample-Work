{
 "cells": [
  {
   "cell_type": "markdown",
   "metadata": {},
   "source": [
    "# Compare Gradient Descent Method with Newton Method\n",
    "\n",
    "Implementation details: For either methods, and any step size, start in iteration t = 1 at the same point x1 = (0, 0), for fairer comparison.\n",
    "\n",
    "Here we can calculate 2/β = 0.195, i.e., in terms of the smoothness constant β of F (via its Hessian). According to theory, we should set the step size η for Gradient Descent to η < 2/β. In the case of Newton, which uses a better approximation, we can use a larger step size.\n",
    "\n",
    "Therefore, on the same figure, plot F(xt) against t ∈ [1, 2, . . . , 30] for the following 4 configurations, and label each curve appropriately as given below \n",
    "(NM1 through GD0.2)"
   ]
  },
  {
   "cell_type": "code",
   "execution_count": 6,
   "metadata": {},
   "outputs": [],
   "source": [
    "import numpy as np\n",
    "import math"
   ]
  },
  {
   "cell_type": "code",
   "execution_count": 7,
   "metadata": {},
   "outputs": [],
   "source": [
    "Sigma = np.array ([[5 , 0],[0 , 0.5]])\n",
    "II = np.array ([[1 , 1]])\n",
    "\n",
    "def func0 ( x ):\n",
    "    return np.dot( np.dot( x.transpose() , Sigma ) , x )+ math.log ( 1+ math.exp(-np.dot( II , x ) ) )\n",
    "\n",
    "def First_derivative ( x ):\n",
    "    x1 = x[0][0]\n",
    "    x2 = x[1][0]\n",
    "    ex = math.exp(-( x1+x2 ) )\n",
    "    return np.array ([[10*x1-ex/( 1+ex )],[x2-ex/( 1+ex )]])\n",
    "\n",
    "def Second_derivative ( x ):\n",
    "    x1 = x[0][0]\n",
    "    x2 = x[1][0]\n",
    "    ex = math.exp(-( x1+x2 ) )\n",
    "    ex = ex/( 1+ex ) ** 2\n",
    "    return np . array ([[10+ex , ex],[ex , 1+ex]])\n",
    "\n",
    "def gradient(X0,stepsize,iter):\n",
    "    temp=[[],[]]\n",
    "    X=X0\n",
    "    Y=func0(X)\n",
    "    for i in range(0,iter):\n",
    "        temp[0]=X[0]-np.dot(stepsize,First_derivative(X))[0]\n",
    "        temp[1]=X[1]-np.dot(stepsize,First_derivative(X))[1]\n",
    "        X= np.array([temp[0],temp[1]])\n",
    "        Y= func0(X)\n",
    "    return X,Y\n",
    "\n",
    "def Newton(X0,stepsize,iter):\n",
    "    temp=[[],[]]\n",
    "    X=X0\n",
    "    Y=func0(X)\n",
    "    for i in range(0,iter):\n",
    "        X= X-stepsize*np.dot(np.linalg.inv(Second_derivative(X)),First_derivative(X))\n",
    "        Y= func0(X)\n",
    "    return X,Y"
   ]
  },
  {
   "cell_type": "markdown",
   "metadata": {},
   "source": [
    "(NM1) Newton Method with constant step size η = 1"
   ]
  },
  {
   "cell_type": "code",
   "execution_count": 8,
   "metadata": {},
   "outputs": [],
   "source": [
    "x0=np.array([[0],[0]])\n",
    "temp=[]\n",
    "for i in range(0,30):\n",
    "    temp = np.append(temp,Newton(x0,stepsize=1,iter=i))\n",
    "X_1=[arr for i, arr in enumerate(temp) if i % 2 == 0]\n",
    "Y_1=[arr for i, arr in enumerate(temp) if i % 2 != 0]\n",
    "Y_1=[arr[0][0] for arr in Y_1]"
   ]
  },
  {
   "cell_type": "markdown",
   "metadata": {},
   "source": [
    "(GD0.1) Gradient Descent Method with constant step size η = 0.1"
   ]
  },
  {
   "cell_type": "code",
   "execution_count": 9,
   "metadata": {},
   "outputs": [],
   "source": [
    "x0=np.array([[0],[0]])\n",
    "temp=[]\n",
    "for i in range(0, 30):\n",
    "    temp = np.append(temp,gradient(x0,stepsize=0.1,iter=i))\n",
    "X_01=[arr for i, arr in enumerate(temp) if i % 2 == 0]\n",
    "Y_01=[arr for i, arr in enumerate(temp) if i % 2 != 0]\n",
    "Y_01=[arr[0][0] for arr in Y_01]"
   ]
  },
  {
   "cell_type": "markdown",
   "metadata": {},
   "source": [
    "(GD0.19) Gradient Descent Method with constant step size η = 0.19"
   ]
  },
  {
   "cell_type": "code",
   "execution_count": 10,
   "metadata": {},
   "outputs": [],
   "source": [
    "temp=[]\n",
    "for i in range(0, 30):\n",
    "    temp = np.append(temp,gradient(x0,stepsize=0.19,iter=i))\n",
    "X_019=[arr for i, arr in enumerate(temp) if i % 2 == 0]\n",
    "Y_019=[arr for i, arr in enumerate(temp) if i % 2 != 0]\n",
    "Y_019=[arr[0][0] for arr in Y_019]"
   ]
  },
  {
   "cell_type": "markdown",
   "metadata": {},
   "source": [
    "(GD0.2) Gradient Descent Method with constant step size η = 0.2"
   ]
  },
  {
   "cell_type": "code",
   "execution_count": 11,
   "metadata": {},
   "outputs": [],
   "source": [
    "temp=[]\n",
    "for i in range(0, 30):\n",
    "    temp = np.append(temp,gradient(x0,stepsize=0.2,iter=i))\n",
    "X_02=[arr for i, arr in enumerate(temp) if i % 2 == 0]\n",
    "Y_02=[arr for i, arr in enumerate(temp) if i % 2 != 0]\n",
    "Y_02=[arr[0][0] for arr in Y_02]"
   ]
  },
  {
   "cell_type": "code",
   "execution_count": 12,
   "metadata": {},
   "outputs": [
    {
     "data": {
      "text/plain": [
       "<matplotlib.legend.Legend at 0x2994b6d4400>"
      ]
     },
     "execution_count": 12,
     "metadata": {},
     "output_type": "execute_result"
    },
    {
     "data": {
      "image/png": "[encoded data removed]",
      "text/plain": [
       "<Figure size 432x288 with 1 Axes>"
      ]
     },
     "metadata": {
      "needs_background": "light"
     },
     "output_type": "display_data"
    }
   ],
   "source": [
    "import matplotlib.pyplot as plt\n",
    "t=range(30)\n",
    "\n",
    "plt.plot(t,Y_1,label='NM1')\n",
    "plt.plot(t,Y_01,label='GD0.1')\n",
    "plt.plot(t,Y_019,label='GD0.19')\n",
    "plt.plot(t,Y_02,label='GD0.2')\n",
    "\n",
    "plt.xlabel('t')\n",
    "plt.ylabel('F(x_t)')\n",
    "plt.legend()"
   ]
  },
  {
   "cell_type": "markdown",
   "metadata": {},
   "source": [
    "Problem 5: Regular SGD vs Adagrad optimization on a Regression problem\n",
    "\n",
    "(b) Implement the above two procedures in Python, using β = 2(σ^2 +λ) (smoothness measure)"
   ]
  },
  {
   "cell_type": "code",
   "execution_count": 13,
   "metadata": {},
   "outputs": [],
   "source": [
    "## Code for generator / sampler\n",
    "import numpy as np\n",
    "import random\n",
    "import time\n",
    "from numpy import linalg as LA\n",
    "import statistics\n",
    "\n",
    "# initialization\n",
    "sigma = 1\n",
    "d = 10\n",
    "c_square = 100\n",
    "cov = np.diag ([( 0.25 ** i )* c_square for i in range (1 , d+1 )])\n",
    "mean = [0]*d\n",
    "# coeficient given\n",
    "w = np.array ([1]*d )\n",
    "\n",
    "# Sampler function\n",
    "def sampler ( n ):\n",
    "    # data X generator\n",
    "    np.random.seed ( int( time.time ()* 100000 )% 100000 )\n",
    "    X = np.random.multivariate_normal (mean,cov,n)\n",
    "    # data Y generator\n",
    "    Y = np . matmul (X,w)+np.random.normal (0 , sigma ** 2 , n )\n",
    "    return X, Y\n",
    "\n",
    "def gradient(x,y,w,n):\n",
    "    return ((w.T.dot(x)-y)*x*2+0.2*w)"
   ]
  },
  {
   "cell_type": "code",
   "execution_count": 14,
   "metadata": {},
   "outputs": [],
   "source": [
    "def regularSGD (X,Y,d=10,w = np.array ([0]*d)):\n",
    "    w_star = np.array ([1]*d )\n",
    "    n= len(X)\n",
    "    w = np.array ([0]*d)\n",
    "    sigma=(2**(-1))*10\n",
    "    beta=2*(sigma+0.1)\n",
    "    t=0\n",
    "    diff=[]\n",
    "    diff_r=[]\n",
    "    \n",
    "    while t < n:\n",
    "        F_derivative = 2*(Y[t]-np.dot(np.dot(w,X[t]),(-(X[t]))))+2*0.1*w/n\n",
    "        sigma += np.linalg.norm(F_derivative)\n",
    "        stepsize = np.sqrt(1/np.dot(beta,sigma))\n",
    "        w=w-np.dot(stepsize,F_derivative)\n",
    "        t=t+1\n",
    "        diff=np.sqrt(np.sum((w-w_star)**2))\n",
    "        diff_r=np.append(diff_r,diff)\n",
    "        \n",
    "    return diff_r"
   ]
  },
  {
   "cell_type": "code",
   "execution_count": 15,
   "metadata": {},
   "outputs": [],
   "source": [
    "def Adagrad (x,y,d=10,w = np.array ([0]*d)):\n",
    "    w_star = np.array ([1]*d )\n",
    "    n=len(x)\n",
    "    sigma=(2**(-1))*10\n",
    "    beta=2*(sigma+0.1)\n",
    "    t=0\n",
    "    F=[]\n",
    "    diff=[]\n",
    "    \n",
    "    for t in range(n):\n",
    "        Ft=gradient(x[t],y[t],w,n)\n",
    "        F.append(Ft**2)\n",
    "        ita=np.diag(1/np.sqrt(np.sum(F,axis=0)*beta))\n",
    "        w=w-ita.dot(Ft)\n",
    "        diff.append(np.sqrt(np.sum((w-w_star)**2)))\n",
    "    return diff\n",
    "    "
   ]
  },
  {
   "cell_type": "code",
   "execution_count": 16,
   "metadata": {
    "scrolled": true
   },
   "outputs": [],
   "source": [
    "SGD=[]\n",
    "for i in range(10):\n",
    "    data_ran=sampler(1000)\n",
    "    X=data_ran[0]\n",
    "    Y=data_ran[0]\n",
    "    SGD.append(regularSGD(X=X,Y=Y))\n",
    "\n",
    "SGD_var=np.var(SGD,axis=0)\n",
    "SGD_mean=np.mean(SGD,axis=0)"
   ]
  },
  {
   "cell_type": "code",
   "execution_count": 20,
   "metadata": {},
   "outputs": [
    {
     "data": {
      "text/plain": [
       "array([[ 6.93801931e+00,  2.54691792e+00,  1.35991364e+00, ...,\n",
       "        -8.65635197e-02,  1.67390348e-02, -4.69229001e-03],\n",
       "       [ 6.03870611e+00, -2.38388194e-02,  2.12057640e+00, ...,\n",
       "        -9.44893297e-02,  2.19524579e-02, -1.50668470e-02],\n",
       "       [-1.02450611e+01, -5.06645157e-01, -1.30253812e+00, ...,\n",
       "         4.38404031e-02,  1.37417773e-02,  8.25831486e-03],\n",
       "       ...,\n",
       "       [-3.06970546e+00, -2.14652477e+00,  1.46301647e-01, ...,\n",
       "         3.00632465e-02,  2.63225255e-02,  6.35963955e-03],\n",
       "       [-1.19154336e+00,  1.14024739e+00, -2.71064138e+00, ...,\n",
       "        -5.41792649e-02,  2.81213751e-02, -9.22048740e-03],\n",
       "       [-1.72881793e+00, -1.79218932e+00,  5.92130250e-01, ...,\n",
       "        -3.95298337e-02,  2.64451606e-03,  2.84413483e-03]])"
      ]
     },
     "execution_count": 20,
     "metadata": {},
     "output_type": "execute_result"
    }
   ],
   "source": [
    "AGD=[]\n",
    "for i in range(10):\n",
    "    data_ran=sampler(1000)\n",
    "    X=data_ran[0]\n",
    "    Y=data_ran[1]\n",
    "    AGD.append(Adagrad(x=X,y=Y))\n",
    "\n",
    "AGD_var=np.var(AGD,axis=0)\n",
    "AGD_mean=np.mean(AGD,axis=0)"
   ]
  },
  {
   "cell_type": "code",
   "execution_count": 48,
   "metadata": {
    "scrolled": true
   },
   "outputs": [
    {
     "data": {
      "image/png": "[encoded data removed]",
      "text/plain": [
       "<Figure size 432x288 with 1 Axes>"
      ]
     },
     "metadata": {
      "needs_background": "light"
     },
     "output_type": "display_data"
    }
   ],
   "source": [
    "import matplotlib.pyplot as plt\n",
    "t=range(1000)\n",
    "\n",
    "#plt.plot(t,SGD_mean,label='SGD')\n",
    "plt.errorbar(t,SGD_mean,yerr=SGD_var,label='SGD')\n",
    "plt.plot(t,AGD_mean,label='AGD')\n",
    "plt.errorbar(t,AGD_mean,yerr=AGD_var,label='AGD')\n",
    "plt.xlabel('t')\n",
    "plt.ylabel('error')\n",
    "plt.legend()\n",
    "plt.show()"
   ]
  },
  {
   "cell_type": "markdown",
   "metadata": {},
   "source": [
    "The AGD is faster converging, lower error and less variated."
   ]
  }
 ],
 "metadata": {
  "kernelspec": {
   "display_name": "Python 3",
   "language": "python",
   "name": "python3"
  },
  "language_info": {
   "codemirror_mode": {
    "name": "ipython",
    "version": 3
   },
   "file_extension": ".py",
   "mimetype": "text/x-python",
   "name": "python",
   "nbconvert_exporter": "python",
   "pygments_lexer": "ipython3",
   "version": "3.8.10"
  },
  "toc": {
   "base_numbering": 1,
   "nav_menu": {},
   "number_sections": false,
   "sideBar": true,
   "skip_h1_title": true,
   "title_cell": "Table of Contents",
   "title_sidebar": "Contents",
   "toc_cell": false,
   "toc_position": {},
   "toc_section_display": true,
   "toc_window_display": true
  }
 },
 "nbformat": 4,
 "nbformat_minor": 4
}
